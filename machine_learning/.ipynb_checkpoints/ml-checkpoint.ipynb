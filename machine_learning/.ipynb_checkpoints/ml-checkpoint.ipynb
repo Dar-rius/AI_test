{
 "cells": [
  {
   "cell_type": "code",
   "execution_count": 7,
   "id": "9b63398f",
   "metadata": {},
   "outputs": [],
   "source": [
    "import pandas as pd\n",
    "import numpy as np\n",
    "import matplotlib.pyplot as plt\n",
    "import seaborn as sns\n",
    "import sqlite3\n",
    "%matplotlib inline "
   ]
  },
  {
   "cell_type": "code",
   "execution_count": 10,
   "id": "24fd3554",
   "metadata": {},
   "outputs": [
    {
     "name": "stderr",
     "output_type": "stream",
     "text": [
      "C:\\Users\\MOHAM\\AppData\\Local\\Temp/ipykernel_19520/2280452134.py:3: FutureWarning: Passing a negative integer is deprecated in version 1.0 and will not be supported in future version. Instead, use None to not limit the column width.\n",
      "  pd.set_option(\"display.max_colwidth\", -1)\n"
     ]
    }
   ],
   "source": [
    "#connexion a la base de donnee\n",
    "#connexion_sql = sqlite3.connect(\"../db.sqlite3\")\n",
    "pd.set_option(\"display.max_colwidth\", -1)\n",
    "#df = pd.read_sql_query(\"SELECT * from message_wolof_message_wolof\", connexion_sql)"
   ]
  },
  {
   "cell_type": "code",
   "execution_count": 11,
   "id": "c1b24cf5",
   "metadata": {},
   "outputs": [
    {
     "data": {
      "text/html": [
       "<div>\n",
       "<style scoped>\n",
       "    .dataframe tbody tr th:only-of-type {\n",
       "        vertical-align: middle;\n",
       "    }\n",
       "\n",
       "    .dataframe tbody tr th {\n",
       "        vertical-align: top;\n",
       "    }\n",
       "\n",
       "    .dataframe thead th {\n",
       "        text-align: right;\n",
       "    }\n",
       "</style>\n",
       "<table border=\"1\" class=\"dataframe\">\n",
       "  <thead>\n",
       "    <tr style=\"text-align: right;\">\n",
       "      <th></th>\n",
       "      <th>id</th>\n",
       "      <th>message</th>\n",
       "      <th>emotion</th>\n",
       "    </tr>\n",
       "  </thead>\n",
       "  <tbody>\n",
       "    <tr>\n",
       "      <th>0</th>\n",
       "      <td>1</td>\n",
       "      <td>hey</td>\n",
       "      <td>Positive</td>\n",
       "    </tr>\n",
       "    <tr>\n",
       "      <th>1</th>\n",
       "      <td>2</td>\n",
       "      <td>hey everyone</td>\n",
       "      <td>Positive</td>\n",
       "    </tr>\n",
       "    <tr>\n",
       "      <th>2</th>\n",
       "      <td>3</td>\n",
       "      <td>Site web collaboratif, au développement duquel les visiteurs peuvent participer par l'écriture de pages web et la création de liens, et dont la permanence repose sur l'identification des auteurs, l'archivage des versions et le suivi des modifications.</td>\n",
       "      <td>Negative</td>\n",
       "    </tr>\n",
       "    <tr>\n",
       "      <th>3</th>\n",
       "      <td>4</td>\n",
       "      <td>je teste</td>\n",
       "      <td>Negative</td>\n",
       "    </tr>\n",
       "  </tbody>\n",
       "</table>\n",
       "</div>"
      ],
      "text/plain": [
       "   id  \\\n",
       "0  1    \n",
       "1  2    \n",
       "2  3    \n",
       "3  4    \n",
       "\n",
       "                                                                                                                                                                                                                                                       message  \\\n",
       "0  hey                                                                                                                                                                                                                                                           \n",
       "1  hey everyone                                                                                                                                                                                                                                                  \n",
       "2  Site web collaboratif, au développement duquel les visiteurs peuvent participer par l'écriture de pages web et la création de liens, et dont la permanence repose sur l'identification des auteurs, l'archivage des versions et le suivi des modifications.   \n",
       "3  je teste                                                                                                                                                                                                                                                      \n",
       "\n",
       "    emotion  \n",
       "0  Positive  \n",
       "1  Positive  \n",
       "2  Negative  \n",
       "3  Negative  "
      ]
     },
     "execution_count": 11,
     "metadata": {},
     "output_type": "execute_result"
    }
   ],
   "source": [
    "df.head()"
   ]
  },
  {
   "cell_type": "code",
   "execution_count": null,
   "id": "5a243d6b",
   "metadata": {},
   "outputs": [],
   "source": []
  }
 ],
 "metadata": {
  "kernelspec": {
   "display_name": "Python 3 (ipykernel)",
   "language": "python",
   "name": "python3"
  },
  "language_info": {
   "codemirror_mode": {
    "name": "ipython",
    "version": 3
   },
   "file_extension": ".py",
   "mimetype": "text/x-python",
   "name": "python",
   "nbconvert_exporter": "python",
   "pygments_lexer": "ipython3",
   "version": "3.9.7"
  }
 },
 "nbformat": 4,
 "nbformat_minor": 5
}
